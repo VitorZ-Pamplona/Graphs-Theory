{
  "nbformat": 4,
  "nbformat_minor": 0,
  "metadata": {
    "colab": {
      "provenance": []
    },
    "kernelspec": {
      "name": "python3",
      "display_name": "Python 3"
    },
    "language_info": {
      "name": "python"
    }
  },
  "cells": [
    {
      "cell_type": "markdown",
      "source": [
        "#Projeto Corte Minimo Karger\n",
        "###Grupo: Vitor Zimbrunes Pamplona, Yan borges Simões de Araújo\n",
        "###Matrícula: 20190038570, 20190036216\n",
        "###Data: 03/05/2023\n",
        "###Última alteração: 20/05/2023"
      ],
      "metadata": {
        "id": "0d0S7bhHwgXI"
      }
    },
    {
      "cell_type": "code",
      "source": [
        "import numpy as np\n",
        "import random as ra\n",
        "import copy\n",
        "import matplotlib.pyplot as plt"
      ],
      "metadata": {
        "id": "lPqoQ7dsBk7h"
      },
      "execution_count": null,
      "outputs": []
    },
    {
      "cell_type": "code",
      "execution_count": null,
      "metadata": {
        "id": "uukz-QirwcI-"
      },
      "outputs": [],
      "source": [
        "class grafo:\n",
        "  def __init__ (self, filename):\n",
        "    f = open(filename , 'r')\n",
        "    n = int(f.readline())\n",
        "\n",
        "    self.n = n\n",
        "    self.M = [[0 for _ in range(n)] for _ in range(n)]\n",
        "    self.L = [[] for _ in range(n)]\n",
        "    self.E = []\n",
        "    self.v = list(np.arange(len(self.M)))\n",
        "\n",
        "    l = 0\n",
        "    for line in f:\n",
        "      line.strip()\n",
        "      numeros = line.split()\n",
        "      c = 0\n",
        "      for i in numeros:\n",
        "        self.M[l][c] = int(i)\n",
        "        if(self.M[l][c] > 0):\n",
        "          self.L[l].append(c)\n",
        "        c += 1\n",
        "      l += 1\n",
        "\n",
        "    for i in range(len(self.M)):\n",
        "      for j in range(len(self.M)):\n",
        "        if(self.M[i][j] == 1):\n",
        "          self.E.append([i,j])\n",
        "\n",
        "    for i in range(len(self.E)):\n",
        "      self.E[i] = sorted(self.E[i])\n",
        "\n",
        "    for x in self.E:\n",
        "      if(self.E.count(x) > 1):\n",
        "        self.E.pop(self.E.index(x))\n",
        "\n",
        "    self.E_new = sorted(self.E)\n",
        "\n",
        "    f.close()\n",
        "\n",
        "  def show(self):\n",
        "    print(self.M)\n",
        "    print(self.L)\n",
        "    print(self.E_new)\n",
        "    print(self.v)"
      ]
    },
    {
      "cell_type": "code",
      "source": [
        "g = grafo(\"/content/graph_type1_1\")"
      ],
      "metadata": {
        "id": "s-stilMq-FVq"
      },
      "execution_count": null,
      "outputs": []
    },
    {
      "cell_type": "code",
      "source": [
        "g.show()"
      ],
      "metadata": {
        "id": "PwOUAypQ-I_Q",
        "colab": {
          "base_uri": "https://localhost:8080/"
        },
        "outputId": "214569f9-6fc3-4145-f53f-f6ba447f4a50"
      },
      "execution_count": null,
      "outputs": [
        {
          "output_type": "stream",
          "name": "stdout",
          "text": [
            "[[0, 0, 1, 1, 0, 1, 0, 0, 0, 0], [0, 0, 0, 0, 1, 0, 0, 0, 0, 0], [1, 0, 0, 0, 0, 0, 1, 0, 0, 0], [1, 0, 0, 0, 1, 0, 0, 0, 0, 0], [0, 1, 0, 1, 0, 0, 0, 1, 0, 0], [1, 0, 0, 0, 0, 0, 0, 0, 1, 1], [0, 0, 1, 0, 0, 0, 0, 0, 0, 0], [0, 0, 0, 0, 1, 0, 0, 0, 0, 0], [0, 0, 0, 0, 0, 1, 0, 0, 0, 0], [0, 0, 0, 0, 0, 1, 0, 0, 0, 0]]\n",
            "[[2, 3, 5], [4], [0, 6], [0, 4], [1, 3, 7], [0, 8, 9], [2], [4], [5], [5]]\n",
            "[[0, 2], [0, 3], [0, 3], [0, 5], [1, 4], [1, 4], [2, 6], [3, 4], [4, 7], [5, 8], [5, 9]]\n",
            "[0, 1, 2, 3, 4, 5, 6, 7, 8, 9]\n"
          ]
        }
      ]
    },
    {
      "cell_type": "markdown",
      "source": [
        "#Karger teste"
      ],
      "metadata": {
        "id": "JqKZf3ZIVEBH"
      }
    },
    {
      "cell_type": "code",
      "source": [
        "class Karger:\n",
        "  def __init__(self, grafo, Niter):\n",
        "    self.grafo = grafo\n",
        "    self.Niter = Niter\n",
        "\n",
        "  def corte_minimo(self):\n",
        "    min_cut = float('inf')\n",
        "    for _ in range(self.Niter):\n",
        "      cut = self.karger_min_cut()\n",
        "      min_cut = min(min_cut, cut)\n",
        "    return min_cut\n",
        "\n",
        "  def karger_min_cut(self):\n",
        "    vertices = self.grafo.v\n",
        "    edges = copy.deepcopy(self.grafo.E_new)\n",
        "\n",
        "    for _ in range(len(vertices) - 2):\n",
        "      edge = ra.choice(edges)\n",
        "      u = edge[0]\n",
        "      v = edge[1]\n",
        "      self.contract_edge(u, v, vertices, edges)\n",
        "\n",
        "    return len(edges)\n",
        "\n",
        "  def contract_edge(self, u, v, vertices, edges):\n",
        "    merged_vertex = max(vertices) + 1\n",
        "    vertices.remove(u)\n",
        "    vertices.remove(v)\n",
        "    vertices.append(merged_vertex)\n",
        "\n",
        "    new_edges = []\n",
        "    for edge in edges:\n",
        "      if edge[0] == u or edge[0] == v or edge[1] == u or edge[1] == v:\n",
        "        if edge[0] != u and edge[0] != v:\n",
        "          new_edges.append((merged_vertex, edge[0]))\n",
        "        if edge[1] != u and edge[1] != v:\n",
        "          new_edges.append((merged_vertex, edge[1]))\n",
        "      else:\n",
        "        new_edges.append(edge)\n",
        "\n",
        "    edges.clear()\n",
        "    edges.extend(new_edges)"
      ],
      "metadata": {
        "id": "y-kiISZnvAsi"
      },
      "execution_count": null,
      "outputs": []
    },
    {
      "cell_type": "code",
      "source": [
        "K = Karger(g, 10)\n",
        "print(K.corte_minimo())"
      ],
      "metadata": {
        "id": "QA0-fex3vLII",
        "colab": {
          "base_uri": "https://localhost:8080/"
        },
        "outputId": "b35c59ff-34ba-450e-9a22-82bc1d3bcb47"
      },
      "execution_count": null,
      "outputs": [
        {
          "output_type": "stream",
          "name": "stdout",
          "text": [
            "1\n"
          ]
        }
      ]
    },
    {
      "cell_type": "markdown",
      "source": [
        "#Algoritmo Ingênuo"
      ],
      "metadata": {
        "id": "s8JOxF5hmnGi"
      }
    },
    {
      "cell_type": "code",
      "source": [
        "class Ingenuo:\n",
        "  def __init__(self, grafo, Niter):\n",
        "    self.grafo = grafo\n",
        "    self.Niter = Niter\n",
        "\n",
        "  def corte_minimo(self):\n",
        "    min_cut = float('inf')\n",
        "    for _ in range(self.Niter):\n",
        "      cut = self.calculate_cut()\n",
        "      min_cut = min(min_cut, cut)\n",
        "    return min_cut\n",
        "\n",
        "  def calculate_cut(self):\n",
        "    vertices = self.grafo.v\n",
        "    edges = copy.deepcopy(self.grafo.E_new)\n",
        "\n",
        "    group1 = ra.sample(vertices, len(vertices))\n",
        "\n",
        "    cut_size = 0\n",
        "    for edge in edges:\n",
        "      u, v = edge[0], edge[1]\n",
        "      if (u in group1) or (v in group1):\n",
        "        cut_size += 1\n",
        "\n",
        "    return cut_size"
      ],
      "metadata": {
        "id": "pP5nAhrbmpMS"
      },
      "execution_count": null,
      "outputs": []
    },
    {
      "cell_type": "code",
      "source": [
        "i = Ingenuo(g, 10)\n",
        "print(i.corte_minimo())"
      ],
      "metadata": {
        "id": "4dwUqQ03pjII",
        "colab": {
          "base_uri": "https://localhost:8080/"
        },
        "outputId": "e5238e34-4585-4730-8402-ba915e822200"
      },
      "execution_count": null,
      "outputs": [
        {
          "output_type": "stream",
          "name": "stdout",
          "text": [
            "0\n"
          ]
        }
      ]
    },
    {
      "cell_type": "markdown",
      "source": [
        "#Análise Empírica"
      ],
      "metadata": {
        "id": "pf3YaBudv9Hu"
      }
    },
    {
      "cell_type": "code",
      "source": [
        "class Analysis:\n",
        "  def __init__(self, grafo, filename):\n",
        "    f = open(filename , 'r')\n",
        "    self.corte_ideal = int(f.readline())\n",
        "    f.close()\n",
        "    self.grafo = grafo\n",
        "\n",
        "  def run_analysis(self, Nitermax, Nexec):\n",
        "    iterations = np.arange(1, Nitermax + 1)\n",
        "    prob_karger = []\n",
        "    prob_ingenuo = []\n",
        "    self.Nexec = Nexec\n",
        "\n",
        "    for Niter in iterations:\n",
        "      karger_success = 0\n",
        "      ingenuo_success = 0\n",
        "\n",
        "      for _ in range(self.Nexec):\n",
        "        karger = Karger(self.grafo, Niter)\n",
        "        ingenuo = Ingenuo(self.grafo, Niter)\n",
        "\n",
        "        if karger.corte_minimo() == self.corte_ideal:\n",
        "          karger_success += 1\n",
        "\n",
        "        if ingenuo.corte_minimo() == self.corte_ideal:\n",
        "          ingenuo_success += 1\n",
        "\n",
        "      prob_karger.append(karger_success /self.Nexec)\n",
        "      prob_ingenuo.append(ingenuo_success /self.Nexec)\n",
        "\n",
        "    # Plotting the chart\n",
        "    plt.plot(iterations, prob_ingenuo, label='Ingenuo Algorithm')\n",
        "    plt.plot(iterations, prob_karger, label='Karger Algorithm')\n",
        "    plt.xlabel('Number of Iterations')\n",
        "    plt.ylabel('Probability of Finding Minimum Cut')\n",
        "    plt.title('Comparison of Karger and Ingenuo Algorithms')\n",
        "    plt.legend()\n",
        "    plt.show()"
      ],
      "metadata": {
        "id": "dFbD24Zzhwir"
      },
      "execution_count": null,
      "outputs": []
    },
    {
      "cell_type": "code",
      "source": [
        "analysis = Analysis(g, '/content/graph_type1_1 out')\n",
        "%time analysis.run_analysis(100, 100)"
      ],
      "metadata": {
        "id": "1U25eJtuNvIR",
        "colab": {
          "base_uri": "https://localhost:8080/",
          "height": 507
        },
        "outputId": "b603b63a-62bc-4b8f-a267-56abe66158b1"
      },
      "execution_count": null,
      "outputs": [
        {
          "output_type": "display_data",
          "data": {
            "text/plain": [
              "<Figure size 640x480 with 1 Axes>"
            ],
            "image/png": "[encoded data removed]"
          },
          "metadata": {}
        },
        {
          "output_type": "stream",
          "name": "stdout",
          "text": [
            "CPU times: user 30.8 s, sys: 163 ms, total: 30.9 s\n",
            "Wall time: 31.1 s\n"
          ]
        }
      ]
    }
  ]
}